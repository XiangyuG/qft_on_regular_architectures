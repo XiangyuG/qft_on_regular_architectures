{
 "cells": [
  {
   "cell_type": "markdown",
   "metadata": {},
   "source": [
    "## Initialize setting"
   ]
  },
  {
   "cell_type": "code",
   "execution_count": 1,
   "metadata": {},
   "outputs": [],
   "source": [
    "import csv\n",
    "\n",
    "# alg = 'our'\n",
    "alg = 'lnn'\n",
    "max_m = 32"
   ]
  },
  {
   "cell_type": "markdown",
   "metadata": {},
   "source": [
    "## Function to caculate depth and swap"
   ]
  },
  {
   "cell_type": "code",
   "execution_count": 3,
   "metadata": {},
   "outputs": [],
   "source": [
    "# Function to calculate depth based on the given formula\n",
    "def calculate_depth(m, alg):\n",
    "    if alg == 'our':\n",
    "        return 5*m**2 - 1.5*m - 9\n",
    "    elif alg == 'lnn':\n",
    "        ori_depth = 4*m**2 - 6\n",
    "        slow_swap_cycle = 3\n",
    "        quick_swap_cycle = 1\n",
    "        all_quick_swap_cycle = 2 * (2 * m - 1)    # cycles before meet the first slow swap\n",
    "\n",
    "        quick_depth = 0.5 * ori_depth + all_quick_swap_cycle\n",
    "        slow_depth = ori_depth - quick_depth\n",
    "        return quick_depth * quick_swap_cycle + slow_depth * slow_swap_cycle\n",
    "\n",
    "# Function to calculate SWAP based on the given formula\n",
    "def calculate_swap(m, alg):\n",
    "    if alg == 'our':\n",
    "        # return m*m*m*m/2 + 0.75*m*m*m - 2*m*m\n",
    "        return (m**4)/4 + (m**3)/4 - 0.5*(m**2)\n",
    "    elif alg == 'lnn':\n",
    "        return 0.5 * (m**4 + m**3 - m**2 - m)"
   ]
  },
  {
   "cell_type": "code",
   "execution_count": 5,
   "metadata": {},
   "outputs": [
    {
     "name": "stdout",
     "output_type": "stream",
     "text": [
      "Data has been written to lnn_lattice_surgery.csv\n"
     ]
    }
   ],
   "source": [
    "\n",
    "# List of m values for which to calculate depth and SWAP\n",
    "m_values = []\n",
    "for i in range(4, max_m + 2, 2):\n",
    "    m_values.append(i)\n",
    "\n",
    "# Specify the CSV file path where the results will be saved\n",
    "csv_file_path = f'{alg}_lattice_surgery.csv'\n",
    "\n",
    "# Fieldnames for the CSV\n",
    "fieldnames = ['num_qubits', 'scale', 'depth', 'swap']\n",
    "\n",
    "# Write the data to a CSV file\n",
    "with open(csv_file_path, mode='w', newline='') as file:\n",
    "    writer = csv.DictWriter(file, fieldnames=fieldnames)\n",
    "    writer.writeheader()\n",
    "    for m in m_values:\n",
    "        depth = calculate_depth(m, alg=alg)\n",
    "        swap = calculate_swap(m, alg=alg)\n",
    "        writer.writerow({'num_qubits': m * m, 'scale': m, 'depth': depth, 'swap': swap})\n",
    "\n",
    "print(f\"Data has been written to {csv_file_path}\")\n"
   ]
  }
 ],
 "metadata": {
  "kernelspec": {
   "display_name": "base",
   "language": "python",
   "name": "python3"
  },
  "language_info": {
   "codemirror_mode": {
    "name": "ipython",
    "version": 3
   },
   "file_extension": ".py",
   "mimetype": "text/x-python",
   "name": "python",
   "nbconvert_exporter": "python",
   "pygments_lexer": "ipython3",
   "version": "3.11.7"
  }
 },
 "nbformat": 4,
 "nbformat_minor": 2
}
